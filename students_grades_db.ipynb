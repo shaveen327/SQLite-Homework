{
  "nbformat": 4,
  "nbformat_minor": 0,
  "metadata": {
    "colab": {
      "provenance": []
    },
    "kernelspec": {
      "name": "python3",
      "display_name": "Python 3"
    },
    "language_info": {
      "name": "python"
    }
  },
  "cells": [
    {
      "cell_type": "code",
      "execution_count": 1,
      "metadata": {
        "colab": {
          "base_uri": "https://localhost:8080/"
        },
        "id": "2VsU4lykBSmD",
        "outputId": "108bd6f1-26ee-4564-c307-2aca5c5a4807"
      },
      "outputs": [
        {
          "output_type": "stream",
          "name": "stdout",
          "text": [
            "Opened database successfully\n"
          ]
        }
      ],
      "source": [
        "# Set Up the Database\n",
        "\n",
        "import sqlite3\n",
        "\n",
        "conn = sqlite3.connect('studentgrades.db')\n",
        "print(\"Opened database successfully\")"
      ]
    },
    {
      "cell_type": "code",
      "source": [
        "# creating cursor\n",
        "\n",
        "cursor = conn.cursor()\n",
        "print(\"Cursor created!\")\n",
        "\n",
        "# Create the sales table\n",
        "\n",
        "cursor.execute('''\n",
        "CREATE TABLE IF NOT EXISTS students (\n",
        "  student_id INTEGER PRIMARY KEY AUTOINCREMENT,\n",
        "  first_name TEXT,\n",
        "  last_name TEXT\n",
        ")\n",
        "''')\n",
        "\n",
        "print(\"students table created!\")\n",
        "\n",
        "cursor.execute('''\n",
        "CREATE TABLE IF NOT EXISTS grades (\n",
        "  grade_id INTEGER PRIMARY KEY AUTOINCREMENT,\n",
        "  student_id INTEGER,\n",
        "  subject TEXT,\n",
        "  grade INTEGER,\n",
        "  FOREIGN KEY (student_id) REFERENCES students (student_id)\n",
        ")\n",
        "''')\n",
        "\n",
        "print(\"grades table created!\")"
      ],
      "metadata": {
        "colab": {
          "base_uri": "https://localhost:8080/"
        },
        "id": "OyIxQaNRBcz7",
        "outputId": "981127d5-4f78-4d54-de07-49602a728edc"
      },
      "execution_count": 2,
      "outputs": [
        {
          "output_type": "stream",
          "name": "stdout",
          "text": [
            "Cursor created!\n",
            "students table created!\n",
            "grades table created!\n"
          ]
        }
      ]
    },
    {
      "cell_type": "code",
      "source": [
        "# Insert Data into the Tables\n",
        "\n",
        "students_data = [\n",
        "    (1, 'Alice', 'Johnson'),\n",
        "    (2, 'Bob', 'Smith'),\n",
        "    (3, 'Carol', 'White'),\n",
        "    (4, 'David', 'Brown'),\n",
        "    (5, 'Eve', 'Davis')\n",
        "]\n",
        "\n",
        "cursor.executemany('''\n",
        "INSERT INTO students (student_id, first_name, last_name)\n",
        "VALUES (?, ?, ?)\n",
        "''', students_data)\n",
        "\n",
        "# Commit the transaction\n",
        "conn.commit()\n",
        "\n",
        "print(\"Data inserted into the students table!\")"
      ],
      "metadata": {
        "colab": {
          "base_uri": "https://localhost:8080/"
        },
        "id": "hJPX2HK8BdQg",
        "outputId": "6000ca77-0975-49eb-f60d-32b642ed66f5"
      },
      "execution_count": 3,
      "outputs": [
        {
          "output_type": "stream",
          "name": "stdout",
          "text": [
            "Data inserted into the students table!\n"
          ]
        }
      ]
    },
    {
      "cell_type": "code",
      "source": [
        "# Insert Data into the Tables\n",
        "\n",
        "grades_data = [\n",
        "    (1, 1, 'Math', 95),\n",
        "    (2, 1, 'English', 88),\n",
        "    (3, 1, 'History', 90),\n",
        "    (4, 2, 'Math', 82),\n",
        "    (5, 2, 'English', 76),\n",
        "    (6, 2, 'History', 85),\n",
        "    (7, 3, 'Math', 92),\n",
        "    (8, 3, 'English', 89),\n",
        "    (9, 3, 'History', 93),\n",
        "    (10, 4, 'Math', 78),\n",
        "    (11, 4, 'English', 91),\n",
        "    (12, 4, 'History', 87),\n",
        "    (13, 5, 'Math', 94),\n",
        "    (14, 5, 'English', 86),\n",
        "    (15, 5, 'History', 91)\n",
        "]\n",
        "\n",
        "cursor.executemany('''\n",
        "INSERT INTO grades (grade_id, student_id, subject, grade)\n",
        "VALUES (?, ?, ?, ?)\n",
        "''', grades_data)\n",
        "\n",
        "# Commit the transaction\n",
        "conn.commit()\n",
        "\n",
        "print(\"Data inserted into the grades table!\")"
      ],
      "metadata": {
        "colab": {
          "base_uri": "https://localhost:8080/"
        },
        "id": "_I6QwaJjBdeC",
        "outputId": "45ba1521-1a79-4fcc-ab94-ae5de63c3f13"
      },
      "execution_count": 4,
      "outputs": [
        {
          "output_type": "stream",
          "name": "stdout",
          "text": [
            "Data inserted into the grades table!\n"
          ]
        }
      ]
    },
    {
      "cell_type": "code",
      "source": [
        "# Perform SQL Queries\n",
        "\n",
        "# 1. Retrieve all students' names and their grades\n",
        "\n",
        "cursor.execute('''\n",
        "SELECT first_name, last_name, grade\n",
        "FROM students\n",
        "JOIN grades ON students.student_id = grades.student_id\n",
        "''')\n",
        "\n",
        "results_one = cursor.fetchall()\n",
        "\n",
        "for row in results_one:\n",
        "    print(row)"
      ],
      "metadata": {
        "colab": {
          "base_uri": "https://localhost:8080/"
        },
        "id": "GavuqnXSBdtO",
        "outputId": "b539774e-8e6f-4271-e95a-69247416800d"
      },
      "execution_count": 5,
      "outputs": [
        {
          "output_type": "stream",
          "name": "stdout",
          "text": [
            "('Alice', 'Johnson', 95)\n",
            "('Alice', 'Johnson', 88)\n",
            "('Alice', 'Johnson', 90)\n",
            "('Bob', 'Smith', 82)\n",
            "('Bob', 'Smith', 76)\n",
            "('Bob', 'Smith', 85)\n",
            "('Carol', 'White', 92)\n",
            "('Carol', 'White', 89)\n",
            "('Carol', 'White', 93)\n",
            "('David', 'Brown', 78)\n",
            "('David', 'Brown', 91)\n",
            "('David', 'Brown', 87)\n",
            "('Eve', 'Davis', 94)\n",
            "('Eve', 'Davis', 86)\n",
            "('Eve', 'Davis', 91)\n"
          ]
        }
      ]
    },
    {
      "cell_type": "code",
      "source": [
        "# 2. Find the average grade for each student\n",
        "\n",
        "cursor.execute('''\n",
        "SELECT first_name, last_name, AVG(grade) AS average_grade\n",
        "FROM students\n",
        "JOIN grades ON students.student_id = grades.student_id\n",
        "GROUP BY students.student_id\n",
        "''')\n",
        "\n",
        "results_two = cursor.fetchall()\n",
        "\n",
        "for two in results_two:\n",
        "    print(two)"
      ],
      "metadata": {
        "colab": {
          "base_uri": "https://localhost:8080/"
        },
        "id": "fUK69b76BeCP",
        "outputId": "e278d171-099c-4298-e399-17cb3e01bfc3"
      },
      "execution_count": 6,
      "outputs": [
        {
          "output_type": "stream",
          "name": "stdout",
          "text": [
            "('Alice', 'Johnson', 91.0)\n",
            "('Bob', 'Smith', 81.0)\n",
            "('Carol', 'White', 91.33333333333333)\n",
            "('David', 'Brown', 85.33333333333333)\n",
            "('Eve', 'Davis', 90.33333333333333)\n"
          ]
        }
      ]
    },
    {
      "cell_type": "code",
      "source": [
        "# 3. Find the student with the highest average grade\n",
        "\n",
        "cursor.execute('''\n",
        "SELECT first_name, last_name, AVG(grade) AS average_grade\n",
        "FROM students\n",
        "JOIN grades ON students.student_id = grades.student_id\n",
        "GROUP BY students.student_id\n",
        "ORDER BY average_grade DESC\n",
        "LIMIT 1\n",
        "''')\n",
        "\n",
        "results_three = cursor.fetchall()\n",
        "\n",
        "for three in results_three:\n",
        "    print(three)"
      ],
      "metadata": {
        "colab": {
          "base_uri": "https://localhost:8080/"
        },
        "id": "IQ6Mf3flBeUu",
        "outputId": "bed231e0-7325-4d41-e84b-0e28636aaa42"
      },
      "execution_count": 7,
      "outputs": [
        {
          "output_type": "stream",
          "name": "stdout",
          "text": [
            "('Carol', 'White', 91.33333333333333)\n"
          ]
        }
      ]
    },
    {
      "cell_type": "code",
      "source": [
        "# 4. Find the average grade for the Math subject\n",
        "\n",
        "cursor.execute('''\n",
        "SELECT AVG(grade) AS average_math_grade\n",
        "FROM grades\n",
        "WHERE subject = 'Math'\n",
        "''')\n",
        "\n",
        "results_four = cursor.fetchall()\n",
        "\n",
        "for four in results_four:\n",
        "    print(four)"
      ],
      "metadata": {
        "colab": {
          "base_uri": "https://localhost:8080/"
        },
        "id": "AEVWzMh4B9GF",
        "outputId": "4d16e63f-6c25-4b14-a3e9-a94c1b76741d"
      },
      "execution_count": 8,
      "outputs": [
        {
          "output_type": "stream",
          "name": "stdout",
          "text": [
            "(88.2,)\n"
          ]
        }
      ]
    },
    {
      "cell_type": "code",
      "source": [
        "# 5. List all students who scored above 90 in any subject\n",
        "\n",
        "cursor.execute('''\n",
        "SELECT first_name, last_name\n",
        "FROM students\n",
        "JOIN grades ON students.student_id = grades.student_id\n",
        "WHERE grade > 90\n",
        "GROUP BY students.student_id\n",
        "''')\n",
        "\n",
        "results_five = cursor.fetchall()\n",
        "\n",
        "for five in results_five:\n",
        "    print(five)"
      ],
      "metadata": {
        "colab": {
          "base_uri": "https://localhost:8080/"
        },
        "id": "ylU3oq1nB9Um",
        "outputId": "d71d2bf6-b72a-44c2-eb2e-8a475aabefc6"
      },
      "execution_count": 9,
      "outputs": [
        {
          "output_type": "stream",
          "name": "stdout",
          "text": [
            "('Alice', 'Johnson')\n",
            "('Carol', 'White')\n",
            "('David', 'Brown')\n",
            "('Eve', 'Davis')\n"
          ]
        }
      ]
    },
    {
      "cell_type": "code",
      "source": [
        "# Load Data into Pandas\n",
        "\n",
        "import pandas as pd\n",
        "\n",
        "students_df = pd.read_sql_query(\"SELECT * FROM students\", conn)\n",
        "grades_df = pd.read_sql_query(\"SELECT * FROM grades\", conn)\n",
        "\n",
        "print(students_df)\n",
        "print(grades_df)"
      ],
      "metadata": {
        "colab": {
          "base_uri": "https://localhost:8080/"
        },
        "id": "hRCrfekgB9qN",
        "outputId": "fc2cb2f4-c966-4b61-caf9-8ce2901996d1"
      },
      "execution_count": 10,
      "outputs": [
        {
          "output_type": "stream",
          "name": "stdout",
          "text": [
            "   student_id first_name last_name\n",
            "0           1      Alice   Johnson\n",
            "1           2        Bob     Smith\n",
            "2           3      Carol     White\n",
            "3           4      David     Brown\n",
            "4           5        Eve     Davis\n",
            "    grade_id  student_id  subject  grade\n",
            "0          1           1     Math     95\n",
            "1          2           1  English     88\n",
            "2          3           1  History     90\n",
            "3          4           2     Math     82\n",
            "4          5           2  English     76\n",
            "5          6           2  History     85\n",
            "6          7           3     Math     92\n",
            "7          8           3  English     89\n",
            "8          9           3  History     93\n",
            "9         10           4     Math     78\n",
            "10        11           4  English     91\n",
            "11        12           4  History     87\n",
            "12        13           5     Math     94\n",
            "13        14           5  English     86\n",
            "14        15           5  History     91\n"
          ]
        }
      ]
    },
    {
      "cell_type": "code",
      "source": [
        "# Use JOIN queries to combine the data from both tables into a single DataFrame that\n",
        "# includes each student's name, subject, and grade\n",
        "\n",
        "query = '''\n",
        "SELECT students.first_name, students.last_name, grades.subject, grades.grade\n",
        "FROM students\n",
        "JOIN grades ON students.student_id = grades.student_id\n",
        "'''\n",
        "\n",
        "combined_df = pd.read_sql_query(query, conn)\n",
        "\n",
        "print(combined_df)"
      ],
      "metadata": {
        "colab": {
          "base_uri": "https://localhost:8080/"
        },
        "id": "ZAfnWUnYB99f",
        "outputId": "c8e57cd2-4dd6-4b99-bb8f-fb4690419b48"
      },
      "execution_count": 11,
      "outputs": [
        {
          "output_type": "stream",
          "name": "stdout",
          "text": [
            "   first_name last_name  subject  grade\n",
            "0       Alice   Johnson     Math     95\n",
            "1       Alice   Johnson  English     88\n",
            "2       Alice   Johnson  History     90\n",
            "3         Bob     Smith     Math     82\n",
            "4         Bob     Smith  English     76\n",
            "5         Bob     Smith  History     85\n",
            "6       Carol     White     Math     92\n",
            "7       Carol     White  English     89\n",
            "8       Carol     White  History     93\n",
            "9       David     Brown     Math     78\n",
            "10      David     Brown  English     91\n",
            "11      David     Brown  History     87\n",
            "12        Eve     Davis     Math     94\n",
            "13        Eve     Davis  English     86\n",
            "14        Eve     Davis  History     91\n"
          ]
        }
      ]
    },
    {
      "cell_type": "code",
      "source": [
        "# 3. Visualize the data with Matplotlib:\n",
        "  # Plot the average grades for each student.\n",
        "\n",
        "import matplotlib.pyplot as plt\n",
        "\n",
        "average_grades = combined_df.groupby(['first_name', 'last_name'])['grade'].mean()\n",
        "\n",
        "plt.figure(figsize=(10,6))\n",
        "average_grades.plot(kind='bar', color='skyblue')\n",
        "plt.ylabel('Average Grade')\n",
        "plt.xlabel('Student')\n",
        "plt.title('Average Grades for Each Student')\n",
        "plt.show()"
      ],
      "metadata": {
        "colab": {
          "base_uri": "https://localhost:8080/",
          "height": 496
        },
        "id": "8XOY_gzHCmr9",
        "outputId": "dd622ec7-166a-4287-bbe2-04f6fbef5859"
      },
      "execution_count": 13,
      "outputs": [
        {
          "output_type": "display_data",
          "data": {
            "text/plain": [
              "<Figure size 1000x600 with 1 Axes>"
            ],
            "image/png": "[encoded data removed]"
          },
          "metadata": {}
        }
      ]
    },
    {
      "cell_type": "code",
      "source": [
        "# 3. Visualize the data with Matplotlib:\n",
        "  # Create a bar chart showing the average grade for each subject.\n",
        "\n",
        "average_grades = combined_df.groupby(['subject'])['grade'].mean()\n",
        "\n",
        "plt.figure(figsize=(10,6))\n",
        "average_grades.plot(kind='bar', color='lightgreen')\n",
        "plt.ylabel('Average Grade')\n",
        "plt.xlabel('Subject')\n",
        "plt.title('Average Grades Per Subject')\n",
        "plt.show()"
      ],
      "metadata": {
        "colab": {
          "base_uri": "https://localhost:8080/",
          "height": 453
        },
        "id": "LxkxjXhDIXwg",
        "outputId": "730b592b-141d-47cb-a570-a24c49f3a396"
      },
      "execution_count": 14,
      "outputs": [
        {
          "output_type": "display_data",
          "data": {
            "text/plain": [
              "<Figure size 1000x600 with 1 Axes>"
            ],
            "image/png": "[encoded data removed]"
          },
          "metadata": {}
        }
      ]
    }
  ]
}